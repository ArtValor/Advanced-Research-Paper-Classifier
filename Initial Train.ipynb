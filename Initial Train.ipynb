{
 "cells": [
  {
   "cell_type": "code",
   "execution_count": 1,
   "id": "1de301c8",
   "metadata": {
    "_cell_guid": "b1076dfc-b9ad-4769-8c92-a6c4dae69d19",
    "_uuid": "8f2839f25d086af736a60e9eeb907d3b93b6e0e5",
    "execution": {
     "iopub.execute_input": "2024-02-07T08:07:05.584429Z",
     "iopub.status.busy": "2024-02-07T08:07:05.584035Z",
     "iopub.status.idle": "2024-02-07T08:07:06.423127Z",
     "shell.execute_reply": "2024-02-07T08:07:06.421955Z"
    },
    "papermill": {
     "duration": 0.849089,
     "end_time": "2024-02-07T08:07:06.425694",
     "exception": false,
     "start_time": "2024-02-07T08:07:05.576605",
     "status": "completed"
    },
    "tags": []
   },
   "outputs": [
    {
     "name": "stdout",
     "output_type": "stream",
     "text": [
      "/kaggle/input/kriti-2024/sample_submission.csv\n",
      "/kaggle/input/kriti-2024/train.csv\n",
      "/kaggle/input/kriti-2024/test.csv\n"
     ]
    }
   ],
   "source": [
    "# This Python 3 environment comes with many helpful analytics libraries installed\n",
    "# It is defined by the kaggle/python Docker image: https://github.com/kaggle/docker-python\n",
    "# For example, here's several helpful packages to load\n",
    "\n",
    "import numpy as np # linear algebra\n",
    "import pandas as pd # data processing, CSV file I/O (e.g. pd.read_csv)\n",
    "\n",
    "# Input data files are available in the read-only \"../input/\" directory\n",
    "# For example, running this (by clicking run or pressing Shift+Enter) will list all files under the input directory\n",
    "\n",
    "import os\n",
    "for dirname, _, filenames in os.walk('/kaggle/input'):\n",
    "    for filename in filenames:\n",
    "        print(os.path.join(dirname, filename))\n",
    "\n",
    "# You can write up to 20GB to the current directory (/kaggle/working/) that gets preserved as output when you create a version using \"Save & Run All\" \n",
    "# You can also write temporary files to /kaggle/temp/, but they won't be saved outside of the current session"
   ]
  },
  {
   "cell_type": "code",
   "execution_count": 2,
   "id": "b464a8a6",
   "metadata": {
    "execution": {
     "iopub.execute_input": "2024-02-07T08:07:06.438449Z",
     "iopub.status.busy": "2024-02-07T08:07:06.438008Z",
     "iopub.status.idle": "2024-02-07T08:07:22.875933Z",
     "shell.execute_reply": "2024-02-07T08:07:22.874817Z"
    },
    "papermill": {
     "duration": 16.447293,
     "end_time": "2024-02-07T08:07:22.878722",
     "exception": false,
     "start_time": "2024-02-07T08:07:06.431429",
     "status": "completed"
    },
    "tags": []
   },
   "outputs": [
    {
     "name": "stdout",
     "output_type": "stream",
     "text": [
      "Collecting tensorflow_addons\r\n",
      "  Downloading tensorflow_addons-0.23.0-cp310-cp310-manylinux_2_17_x86_64.manylinux2014_x86_64.whl.metadata (1.8 kB)\r\n",
      "Requirement already satisfied: packaging in /opt/conda/lib/python3.10/site-packages (from tensorflow_addons) (21.3)\r\n",
      "Collecting typeguard<3.0.0,>=2.7 (from tensorflow_addons)\r\n",
      "  Downloading typeguard-2.13.3-py3-none-any.whl (17 kB)\r\n",
      "Requirement already satisfied: pyparsing!=3.0.5,>=2.0.2 in /opt/conda/lib/python3.10/site-packages (from packaging->tensorflow_addons) (3.1.1)\r\n",
      "Downloading tensorflow_addons-0.23.0-cp310-cp310-manylinux_2_17_x86_64.manylinux2014_x86_64.whl (611 kB)\r\n",
      "\u001b[2K   \u001b[90m━━━━━━━━━━━━━━━━━━━━━━━━━━━━━━━━━━━━━━━━\u001b[0m \u001b[32m611.8/611.8 kB\u001b[0m \u001b[31m9.3 MB/s\u001b[0m eta \u001b[36m0:00:00\u001b[0m\r\n",
      "\u001b[?25hInstalling collected packages: typeguard, tensorflow_addons\r\n",
      "  Attempting uninstall: typeguard\r\n",
      "    Found existing installation: typeguard 4.1.5\r\n",
      "    Uninstalling typeguard-4.1.5:\r\n",
      "      Successfully uninstalled typeguard-4.1.5\r\n",
      "\u001b[31mERROR: pip's dependency resolver does not currently take into account all the packages that are installed. This behaviour is the source of the following dependency conflicts.\r\n",
      "ydata-profiling 4.6.4 requires typeguard<5,>=4.1.2, but you have typeguard 2.13.3 which is incompatible.\u001b[0m\u001b[31m\r\n",
      "\u001b[0mSuccessfully installed tensorflow_addons-0.23.0 typeguard-2.13.3\r\n"
     ]
    }
   ],
   "source": [
    "!pip install tensorflow_addons"
   ]
  },
  {
   "cell_type": "code",
   "execution_count": 3,
   "id": "01981807",
   "metadata": {
    "execution": {
     "iopub.execute_input": "2024-02-07T08:07:22.894268Z",
     "iopub.status.busy": "2024-02-07T08:07:22.893856Z",
     "iopub.status.idle": "2024-02-07T08:07:45.702360Z",
     "shell.execute_reply": "2024-02-07T08:07:45.701296Z"
    },
    "papermill": {
     "duration": 22.819559,
     "end_time": "2024-02-07T08:07:45.705129",
     "exception": false,
     "start_time": "2024-02-07T08:07:22.885570",
     "status": "completed"
    },
    "tags": []
   },
   "outputs": [
    {
     "name": "stderr",
     "output_type": "stream",
     "text": [
      "2024-02-07 08:07:33.424899: E external/local_xla/xla/stream_executor/cuda/cuda_dnn.cc:9261] Unable to register cuDNN factory: Attempting to register factory for plugin cuDNN when one has already been registered\n",
      "2024-02-07 08:07:33.425049: E external/local_xla/xla/stream_executor/cuda/cuda_fft.cc:607] Unable to register cuFFT factory: Attempting to register factory for plugin cuFFT when one has already been registered\n",
      "2024-02-07 08:07:33.579202: E external/local_xla/xla/stream_executor/cuda/cuda_blas.cc:1515] Unable to register cuBLAS factory: Attempting to register factory for plugin cuBLAS when one has already been registered\n",
      "/opt/conda/lib/python3.10/site-packages/tensorflow_addons/utils/tfa_eol_msg.py:23: UserWarning: \n",
      "\n",
      "TensorFlow Addons (TFA) has ended development and introduction of new features.\n",
      "TFA has entered a minimal maintenance and release mode until a planned end of life in May 2024.\n",
      "Please modify downstream libraries to take dependencies from other repositories in our TensorFlow community (e.g. Keras, Keras-CV, and Keras-NLP). \n",
      "\n",
      "For more information see: https://github.com/tensorflow/addons/issues/2807 \n",
      "\n",
      "  warnings.warn(\n"
     ]
    }
   ],
   "source": [
    "import pandas as pd\n",
    "from sklearn.model_selection import train_test_split\n",
    "from transformers import AutoModel, AutoTokenizer\n",
    "from sklearn.preprocessing import MultiLabelBinarizer\n",
    "from sklearn.metrics import f1_score\n",
    "from imblearn.ensemble import EasyEnsembleClassifier\n",
    "import numpy as np\n",
    "import tensorflow_addons as tfa\n",
    "from nltk.corpus import stopwords\n",
    "from nltk.stem import PorterStemmer\n",
    "import re\n",
    "import pandas as pd\n",
    "from sklearn.model_selection import train_test_split\n",
    "from transformers import BertTokenizer, BertForSequenceClassification, AdamW\n",
    "from sklearn.preprocessing import MultiLabelBinarizer\n",
    "from sklearn.metrics import f1_score\n",
    "import torch\n",
    "from torch.utils.data import DataLoader, TensorDataset\n",
    "import numpy as np\n",
    "import tensorflow_addons as tfa"
   ]
  },
  {
   "cell_type": "code",
   "execution_count": 4,
   "id": "cedbf54e",
   "metadata": {
    "execution": {
     "iopub.execute_input": "2024-02-07T08:07:45.720958Z",
     "iopub.status.busy": "2024-02-07T08:07:45.720209Z",
     "iopub.status.idle": "2024-02-07T08:07:47.353857Z",
     "shell.execute_reply": "2024-02-07T08:07:47.352666Z"
    },
    "papermill": {
     "duration": 1.644717,
     "end_time": "2024-02-07T08:07:47.356782",
     "exception": false,
     "start_time": "2024-02-07T08:07:45.712065",
     "status": "completed"
    },
    "tags": []
   },
   "outputs": [],
   "source": [
    "df=pd.read_csv('/kaggle/input/kriti-2024/train.csv')\n",
    "test_df=pd.read_csv('/kaggle/input/kriti-2024/test.csv')"
   ]
  },
  {
   "cell_type": "code",
   "execution_count": 5,
   "id": "2932a97d",
   "metadata": {
    "execution": {
     "iopub.execute_input": "2024-02-07T08:07:47.372646Z",
     "iopub.status.busy": "2024-02-07T08:07:47.372207Z",
     "iopub.status.idle": "2024-02-07T08:07:47.389541Z",
     "shell.execute_reply": "2024-02-07T08:07:47.388688Z"
    },
    "papermill": {
     "duration": 0.028083,
     "end_time": "2024-02-07T08:07:47.391957",
     "exception": false,
     "start_time": "2024-02-07T08:07:47.363874",
     "status": "completed"
    },
    "tags": []
   },
   "outputs": [],
   "source": [
    "X = df[['Title', 'Abstract']]\n",
    "y = df['Categories']"
   ]
  },
  {
   "cell_type": "code",
   "execution_count": 6,
   "id": "0d8f2a05",
   "metadata": {
    "execution": {
     "iopub.execute_input": "2024-02-07T08:07:47.408099Z",
     "iopub.status.busy": "2024-02-07T08:07:47.407235Z",
     "iopub.status.idle": "2024-02-07T08:07:48.094492Z",
     "shell.execute_reply": "2024-02-07T08:07:48.093025Z"
    },
    "papermill": {
     "duration": 0.698213,
     "end_time": "2024-02-07T08:07:48.097224",
     "exception": false,
     "start_time": "2024-02-07T08:07:47.399011",
     "status": "completed"
    },
    "tags": []
   },
   "outputs": [],
   "source": [
    "mlb = MultiLabelBinarizer()\n",
    "y_binary = mlb.fit_transform(y.apply(eval))\n"
   ]
  },
  {
   "cell_type": "code",
   "execution_count": 7,
   "id": "03e235c7",
   "metadata": {
    "execution": {
     "iopub.execute_input": "2024-02-07T08:07:48.112827Z",
     "iopub.status.busy": "2024-02-07T08:07:48.112415Z",
     "iopub.status.idle": "2024-02-07T08:07:48.141898Z",
     "shell.execute_reply": "2024-02-07T08:07:48.140943Z"
    },
    "papermill": {
     "duration": 0.03997,
     "end_time": "2024-02-07T08:07:48.144374",
     "exception": false,
     "start_time": "2024-02-07T08:07:48.104404",
     "status": "completed"
    },
    "tags": []
   },
   "outputs": [],
   "source": [
    "X_train, X_test, y_train, y_test = train_test_split(X, y_binary, test_size=0.15, random_state=83)"
   ]
  },
  {
   "cell_type": "code",
   "execution_count": 8,
   "id": "85dcc906",
   "metadata": {
    "execution": {
     "iopub.execute_input": "2024-02-07T08:07:48.160341Z",
     "iopub.status.busy": "2024-02-07T08:07:48.159926Z",
     "iopub.status.idle": "2024-02-07T08:07:48.169789Z",
     "shell.execute_reply": "2024-02-07T08:07:48.168721Z"
    },
    "papermill": {
     "duration": 0.020608,
     "end_time": "2024-02-07T08:07:48.172103",
     "exception": false,
     "start_time": "2024-02-07T08:07:48.151495",
     "status": "completed"
    },
    "tags": []
   },
   "outputs": [],
   "source": [
    "stop_words = set(stopwords.words('english'))\n",
    "def preprocess_text(text):\n",
    "    # Convert to lowercase\n",
    "    text = text.lower()\n",
    "    \n",
    "    # Remove non-alphanumeric characters\n",
    "    text = re.sub(r'[^a-zA-Z0-9\\s]', '', text)\n",
    "    \n",
    "    # Remove stop words\n",
    "    text = ' '.join([word for word in text.split() if word not in stop_words])\n",
    "        \n",
    "    return text"
   ]
  },
  {
   "cell_type": "code",
   "execution_count": 9,
   "id": "af00722f",
   "metadata": {
    "execution": {
     "iopub.execute_input": "2024-02-07T08:07:48.188600Z",
     "iopub.status.busy": "2024-02-07T08:07:48.187698Z",
     "iopub.status.idle": "2024-02-07T08:07:52.341254Z",
     "shell.execute_reply": "2024-02-07T08:07:52.340293Z"
    },
    "papermill": {
     "duration": 4.164476,
     "end_time": "2024-02-07T08:07:52.343856",
     "exception": false,
     "start_time": "2024-02-07T08:07:48.179380",
     "status": "completed"
    },
    "tags": []
   },
   "outputs": [],
   "source": [
    "X_train_processed = [preprocess_text(title + ': ' + abstract) for title, abstract in zip(X_train['Title'], X_train['Abstract'])]\n",
    "X_test_processed = [preprocess_text(title + ': ' + abstract) for title, abstract in zip(X_test['Title'], X_test['Abstract'])]"
   ]
  },
  {
   "cell_type": "code",
   "execution_count": 10,
   "id": "b99b64f9",
   "metadata": {
    "execution": {
     "iopub.execute_input": "2024-02-07T08:07:52.360971Z",
     "iopub.status.busy": "2024-02-07T08:07:52.360552Z",
     "iopub.status.idle": "2024-02-07T08:07:53.363346Z",
     "shell.execute_reply": "2024-02-07T08:07:53.362280Z"
    },
    "papermill": {
     "duration": 1.014762,
     "end_time": "2024-02-07T08:07:53.366076",
     "exception": false,
     "start_time": "2024-02-07T08:07:52.351314",
     "status": "completed"
    },
    "tags": []
   },
   "outputs": [
    {
     "data": {
      "application/vnd.jupyter.widget-view+json": {
       "model_id": "90fcb928944a49e7bfede7ee5f0c83da",
       "version_major": 2,
       "version_minor": 0
      },
      "text/plain": [
       "vocab.txt:   0%|          | 0.00/228k [00:00<?, ?B/s]"
      ]
     },
     "metadata": {},
     "output_type": "display_data"
    },
    {
     "data": {
      "application/vnd.jupyter.widget-view+json": {
       "model_id": "b4955b1e98a04e62abcdeb9a003322a4",
       "version_major": 2,
       "version_minor": 0
      },
      "text/plain": [
       "config.json:   0%|          | 0.00/385 [00:00<?, ?B/s]"
      ]
     },
     "metadata": {},
     "output_type": "display_data"
    }
   ],
   "source": [
    "tokenizer = BertTokenizer.from_pretrained('allenai/scibert_scivocab_uncased', do_lower_case=True)\n"
   ]
  },
  {
   "cell_type": "code",
   "execution_count": 11,
   "id": "86874599",
   "metadata": {
    "execution": {
     "iopub.execute_input": "2024-02-07T08:07:53.383762Z",
     "iopub.status.busy": "2024-02-07T08:07:53.383213Z",
     "iopub.status.idle": "2024-02-07T08:07:53.388815Z",
     "shell.execute_reply": "2024-02-07T08:07:53.387766Z"
    },
    "papermill": {
     "duration": 0.016953,
     "end_time": "2024-02-07T08:07:53.390993",
     "exception": false,
     "start_time": "2024-02-07T08:07:53.374040",
     "status": "completed"
    },
    "tags": []
   },
   "outputs": [],
   "source": [
    "def tokenize_text(text):\n",
    "    return tokenizer.encode_plus(text, add_special_tokens=True, return_tensors='pt', padding='max_length', truncation=True, max_length=512)"
   ]
  },
  {
   "cell_type": "code",
   "execution_count": 12,
   "id": "5d059083",
   "metadata": {
    "execution": {
     "iopub.execute_input": "2024-02-07T08:07:53.409307Z",
     "iopub.status.busy": "2024-02-07T08:07:53.408898Z",
     "iopub.status.idle": "2024-02-07T08:13:25.390197Z",
     "shell.execute_reply": "2024-02-07T08:13:25.388954Z"
    },
    "papermill": {
     "duration": 331.992867,
     "end_time": "2024-02-07T08:13:25.392876",
     "exception": false,
     "start_time": "2024-02-07T08:07:53.400009",
     "status": "completed"
    },
    "tags": []
   },
   "outputs": [],
   "source": [
    "X_train_tokens = [tokenize_text(i) for i in X_train_processed]\n",
    "X_test_tokens = [tokenize_text(i) for i in X_test_processed]\n",
    "X_train_attention_masks = torch.cat([x['attention_mask'] for x in X_train_tokens], dim=0)\n",
    "X_test_attention_masks= torch.cat([x['attention_mask'] for x in X_test_tokens], dim=0)"
   ]
  },
  {
   "cell_type": "code",
   "execution_count": 13,
   "id": "e30afea9",
   "metadata": {
    "execution": {
     "iopub.execute_input": "2024-02-07T08:13:25.410074Z",
     "iopub.status.busy": "2024-02-07T08:13:25.409697Z",
     "iopub.status.idle": "2024-02-07T08:13:25.650180Z",
     "shell.execute_reply": "2024-02-07T08:13:25.649007Z"
    },
    "papermill": {
     "duration": 0.25195,
     "end_time": "2024-02-07T08:13:25.652841",
     "exception": false,
     "start_time": "2024-02-07T08:13:25.400891",
     "status": "completed"
    },
    "tags": []
   },
   "outputs": [],
   "source": [
    "X_train_inputs = torch.cat([x['input_ids'] for x in X_train_tokens], dim=0)\n",
    "X_test_inputs = torch.cat([x['input_ids'] for x in X_test_tokens], dim=0)"
   ]
  },
  {
   "cell_type": "code",
   "execution_count": 14,
   "id": "fb792c46",
   "metadata": {
    "execution": {
     "iopub.execute_input": "2024-02-07T08:13:25.670863Z",
     "iopub.status.busy": "2024-02-07T08:13:25.670390Z",
     "iopub.status.idle": "2024-02-07T08:13:30.678429Z",
     "shell.execute_reply": "2024-02-07T08:13:30.677072Z"
    },
    "papermill": {
     "duration": 5.021136,
     "end_time": "2024-02-07T08:13:30.682085",
     "exception": false,
     "start_time": "2024-02-07T08:13:25.660949",
     "status": "completed"
    },
    "tags": []
   },
   "outputs": [
    {
     "data": {
      "application/vnd.jupyter.widget-view+json": {
       "model_id": "cd3bffc1b83d4d1aa5da3ed12ce91c93",
       "version_major": 2,
       "version_minor": 0
      },
      "text/plain": [
       "pytorch_model.bin:   0%|          | 0.00/442M [00:00<?, ?B/s]"
      ]
     },
     "metadata": {},
     "output_type": "display_data"
    },
    {
     "name": "stderr",
     "output_type": "stream",
     "text": [
      "/opt/conda/lib/python3.10/site-packages/torch/_utils.py:831: UserWarning: TypedStorage is deprecated. It will be removed in the future and UntypedStorage will be the only storage class. This should only matter to you if you are using storages directly.  To access UntypedStorage directly, use tensor.untyped_storage() instead of tensor.storage()\n",
      "  return self.fget.__get__(instance, owner)()\n",
      "Some weights of BertForSequenceClassification were not initialized from the model checkpoint at allenai/scibert_scivocab_uncased and are newly initialized: ['classifier.bias', 'classifier.weight']\n",
      "You should probably TRAIN this model on a down-stream task to be able to use it for predictions and inference.\n"
     ]
    }
   ],
   "source": [
    "model_name = 'allenai/scibert_scivocab_uncased'\n",
    "scibert_model = BertForSequenceClassification.from_pretrained(model_name, num_labels=len(mlb.classes_))"
   ]
  },
  {
   "cell_type": "code",
   "execution_count": 15,
   "id": "39134f1b",
   "metadata": {
    "execution": {
     "iopub.execute_input": "2024-02-07T08:13:30.705415Z",
     "iopub.status.busy": "2024-02-07T08:13:30.705006Z",
     "iopub.status.idle": "2024-02-07T08:13:30.717899Z",
     "shell.execute_reply": "2024-02-07T08:13:30.717010Z"
    },
    "papermill": {
     "duration": 0.025784,
     "end_time": "2024-02-07T08:13:30.720232",
     "exception": false,
     "start_time": "2024-02-07T08:13:30.694448",
     "status": "completed"
    },
    "tags": []
   },
   "outputs": [],
   "source": [
    "train_dataset = TensorDataset(X_train_inputs, X_train_attention_masks, torch.tensor(y_train, dtype=torch.float32))\n",
    "train_dataloader = DataLoader(train_dataset, batch_size=9, shuffle=True)"
   ]
  },
  {
   "cell_type": "code",
   "execution_count": 16,
   "id": "e3407d08",
   "metadata": {
    "execution": {
     "iopub.execute_input": "2024-02-07T08:13:30.738459Z",
     "iopub.status.busy": "2024-02-07T08:13:30.738095Z",
     "iopub.status.idle": "2024-02-07T12:00:24.763919Z",
     "shell.execute_reply": "2024-02-07T12:00:24.762736Z"
    },
    "papermill": {
     "duration": 13614.037879,
     "end_time": "2024-02-07T12:00:24.766757",
     "exception": false,
     "start_time": "2024-02-07T08:13:30.728878",
     "status": "completed"
    },
    "tags": []
   },
   "outputs": [
    {
     "name": "stderr",
     "output_type": "stream",
     "text": [
      "/opt/conda/lib/python3.10/site-packages/transformers/optimization.py:429: FutureWarning: This implementation of AdamW is deprecated and will be removed in a future version. Use the PyTorch implementation torch.optim.AdamW instead, or set `no_deprecation_warning=True` to disable this warning\n",
      "  warnings.warn(\n",
      "Epoch 1/6: 100%|██████████| 4837/4837 [37:49<00:00,  2.13batch/s, Loss=0.0731]\n",
      "Epoch 2/6: 100%|██████████| 4837/4837 [37:49<00:00,  2.13batch/s, Loss=0.0467]\n",
      "Epoch 3/6: 100%|██████████| 4837/4837 [37:48<00:00,  2.13batch/s, Loss=0.039]\n",
      "Epoch 4/6: 100%|██████████| 4837/4837 [37:47<00:00,  2.13batch/s, Loss=0.0327]\n",
      "Epoch 5/6: 100%|██████████| 4837/4837 [37:49<00:00,  2.13batch/s, Loss=0.0271]\n",
      "Epoch 6/6: 100%|██████████| 4837/4837 [37:48<00:00,  2.13batch/s, Loss=0.0226]\n"
     ]
    }
   ],
   "source": [
    "from tqdm import tqdm\n",
    "import torch\n",
    "\n",
    "# Move model to GPU\n",
    "scibert_model.to('cuda')\n",
    "\n",
    "optimizer = AdamW(scibert_model.parameters(), lr=4e-5)\n",
    "epochs = 6\n",
    "scibert_model.train()\n",
    "\n",
    "for epoch in range(epochs):\n",
    "    epoch_loss = 0.0\n",
    "    with tqdm(total=len(train_dataloader), desc=f'Epoch {epoch + 1}/{epochs}', unit='batch') as pbar:\n",
    "        for batch in train_dataloader:\n",
    "            inputs = batch[0].to('cuda')\n",
    "            attention_masks = batch[1].to('cuda')\n",
    "            labels = batch[2].to('cuda')\n",
    "            optimizer.zero_grad()\n",
    "            outputs = scibert_model(inputs,attention_mask=attention_masks, labels=labels)\n",
    "            loss = outputs.loss\n",
    "            loss.backward()\n",
    "            optimizer.step()\n",
    "            \n",
    "            epoch_loss += loss.item()\n",
    "            pbar.set_postfix({'Loss': epoch_loss / (pbar.n + 1e-12)})\n",
    "            pbar.update(1)\n"
   ]
  },
  {
   "cell_type": "code",
   "execution_count": 17,
   "id": "f00a2bd4",
   "metadata": {
    "execution": {
     "iopub.execute_input": "2024-02-07T12:00:35.062833Z",
     "iopub.status.busy": "2024-02-07T12:00:35.062403Z",
     "iopub.status.idle": "2024-02-07T12:02:47.732105Z",
     "shell.execute_reply": "2024-02-07T12:02:47.731073Z"
    },
    "papermill": {
     "duration": 143.009925,
     "end_time": "2024-02-07T12:02:52.900499",
     "exception": false,
     "start_time": "2024-02-07T12:00:29.890574",
     "status": "completed"
    },
    "tags": []
   },
   "outputs": [
    {
     "name": "stdout",
     "output_type": "stream",
     "text": [
      "Macro F1 Score on Test Set: 0.6668127400062582\n"
     ]
    }
   ],
   "source": [
    "batch_size = 9  # Adjust the batch size based on your available GPU memory\n",
    "\n",
    "# Move the test data to CUDA\n",
    "X_test_inputs = X_test_inputs.to('cuda')\n",
    "X_test_attention_masks = X_test_attention_masks.to('cuda')\n",
    "\n",
    "# Split the test data into batches\n",
    "X_test_inputs_batches = torch.split(X_test_inputs, batch_size)\n",
    "X_test_attention_masks_batches = torch.split(X_test_attention_masks, batch_size)\n",
    "# Make predictions on the test data\n",
    "y_pred_list = []\n",
    "\n",
    "scibert_model.eval()\n",
    "with torch.no_grad():\n",
    "    for inputs_batch, attention_masks_batch in zip(X_test_inputs_batches, X_test_attention_masks_batches):\n",
    "        inputs_batch = inputs_batch.to('cuda')\n",
    "        attention_masks_batch = attention_masks_batch.to('cuda')\n",
    "\n",
    "        y_pred_batch = scibert_model(inputs_batch, attention_mask=attention_masks_batch)[0].sigmoid().cpu().numpy()\n",
    "        y_pred_list.append(y_pred_batch)\n",
    "\n",
    "# Concatenate predictions from all batches\n",
    "y_pred = np.concatenate(y_pred_list, axis=0)\n",
    "\n",
    "# Convert predicted probabilities to binary predictions\n",
    "y_pred_classes = (y_pred > 0.5).astype(int)\n",
    "\n",
    "# Calculate Macro F1 score\n",
    "f1 = f1_score(y_test, y_pred_classes, average='macro')\n",
    "print(\"Macro F1 Score on Test Set:\", f1)\n"
   ]
  },
  {
   "cell_type": "code",
   "execution_count": 18,
   "id": "70d0227e",
   "metadata": {
    "execution": {
     "iopub.execute_input": "2024-02-07T12:03:03.201205Z",
     "iopub.status.busy": "2024-02-07T12:03:03.200832Z",
     "iopub.status.idle": "2024-02-07T12:06:27.392333Z",
     "shell.execute_reply": "2024-02-07T12:06:27.391425Z"
    },
    "papermill": {
     "duration": 209.458604,
     "end_time": "2024-02-07T12:06:27.394818",
     "exception": false,
     "start_time": "2024-02-07T12:02:57.936214",
     "status": "completed"
    },
    "tags": []
   },
   "outputs": [
    {
     "name": "stderr",
     "output_type": "stream",
     "text": [
      "Predicting: 100%|██████████| 854/854 [02:13<00:00,  6.38batch/s]\n"
     ]
    },
    {
     "name": "stdout",
     "output_type": "stream",
     "text": [
      "          Id                                              Title  \\\n",
      "0      30332     Pricing FX Options under Intermediate Currency   \n",
      "1      50337  A Multicore Processor based Real-Time System f...   \n",
      "2      66515  Perceptual Quality Improvement in Videoconfere...   \n",
      "3      57464  Hundred-Kilobyte Lookup Tables for Efficient S...   \n",
      "4      43169  Efficient Sequence Labeling with Actor-Critic ...   \n",
      "...      ...                                                ...   \n",
      "10969  41708  A new lipid-structured model to investigate th...   \n",
      "10970  38843  Evaluating the Efficacy of Hybrid Deep Learnin...   \n",
      "10971  57571  Weakly Supervised Video Individual CountingWea...   \n",
      "10972  31964  StructFormer: Learning Spatial Structure for L...   \n",
      "10973  22229  Numerical Simulation guided Lazy Abstraction R...   \n",
      "\n",
      "                                                Abstract  \\\n",
      "0      We suggest an intermediate currency approach t...   \n",
      "1      In this paper we propose an Intelligent Manage...   \n",
      "2      In the latest years, videoconferencing has tak...   \n",
      "3      Conventional super-resolution (SR) schemes mak...   \n",
      "4      Neural approaches to sequence labeling often u...   \n",
      "...                                                  ...   \n",
      "10969  Atherosclerotic plaques form in artery walls d...   \n",
      "10970  My research investigates the use of cutting-ed...   \n",
      "10971  Video Individual Counting (VIC) aims to predic...   \n",
      "10972  Geometric organization of objects into semanti...   \n",
      "10973  This draft suggests a new counterexample guide...   \n",
      "\n",
      "                                          Processed_Text  cs.AI  cs.AR  cs.CE  \\\n",
      "0      pricing fx options intermediate currency sugge...    1.0    0.0    0.0   \n",
      "1      multicore processor based realtime system auto...    0.0    0.0    0.0   \n",
      "2      perceptual quality improvement videoconferenci...    0.0    0.0    0.0   \n",
      "3      hundredkilobyte lookup tables efficient single...    0.0    0.0    0.0   \n",
      "4      efficient sequence labeling actorcritic traini...    0.0    0.0    0.0   \n",
      "...                                                  ...    ...    ...    ...   \n",
      "10969  new lipidstructured model investigate opposing...    NaN    NaN    NaN   \n",
      "10970  evaluating efficacy hybrid deep learning model...    NaN    NaN    NaN   \n",
      "10971  weakly supervised video individual countingwea...    NaN    NaN    NaN   \n",
      "10972  structformer learning spatial structure langua...    NaN    NaN    NaN   \n",
      "10973  numerical simulation guided lazy abstraction r...    NaN    NaN    NaN   \n",
      "\n",
      "       cs.CL  cs.CR  cs.CV  ...  q-fin.MF  q-fin.PM  q-fin.PR  q-fin.RM  \\\n",
      "0        0.0    0.0    0.0  ...       0.0       0.0       0.0       0.0   \n",
      "1        0.0    1.0    0.0  ...       0.0       0.0       0.0       0.0   \n",
      "2        0.0    0.0    0.0  ...       0.0       0.0       1.0       0.0   \n",
      "3        0.0    0.0    0.0  ...       0.0       0.0       0.0       0.0   \n",
      "4        1.0    0.0    0.0  ...       0.0       0.0       0.0       0.0   \n",
      "...      ...    ...    ...  ...       ...       ...       ...       ...   \n",
      "10969    NaN    NaN    NaN  ...       NaN       NaN       NaN       NaN   \n",
      "10970    NaN    NaN    NaN  ...       NaN       NaN       NaN       NaN   \n",
      "10971    NaN    NaN    NaN  ...       NaN       NaN       NaN       NaN   \n",
      "10972    NaN    NaN    NaN  ...       NaN       NaN       NaN       NaN   \n",
      "10973    NaN    NaN    NaN  ...       NaN       NaN       NaN       NaN   \n",
      "\n",
      "       q-fin.TR  stat.AP  stat.CO  stat.ME  stat.ML  stat.TH  \n",
      "0           0.0      1.0      0.0      0.0      1.0      0.0  \n",
      "1           0.0      0.0      0.0      0.0      0.0      0.0  \n",
      "2           0.0      0.0      0.0      0.0      0.0      0.0  \n",
      "3           0.0      0.0      0.0      0.0      1.0      0.0  \n",
      "4           0.0      0.0      0.0      0.0      0.0      0.0  \n",
      "...         ...      ...      ...      ...      ...      ...  \n",
      "10969       NaN      NaN      NaN      NaN      NaN      NaN  \n",
      "10970       NaN      NaN      NaN      NaN      NaN      NaN  \n",
      "10971       NaN      NaN      NaN      NaN      NaN      NaN  \n",
      "10972       NaN      NaN      NaN      NaN      NaN      NaN  \n",
      "10973       NaN      NaN      NaN      NaN      NaN      NaN  \n",
      "\n",
      "[10974 rows x 61 columns]\n"
     ]
    }
   ],
   "source": [
    "# Preprocess the test data\n",
    "test_df['Processed_Text'] = [preprocess_text(title + ' ' + abstract) for title, abstract in zip(test_df['Title'], test_df['Abstract'])]\n",
    "\n",
    "# Tokenize and preprocess the text data for test\n",
    "X_test_tokens1 = [tokenize_text(text) for text in test_df['Processed_Text']]\n",
    "X_test_inputs1 = torch.cat([x['input_ids'] for x in X_test_tokens1], dim=0)\n",
    "X_test_attention_masks1 = torch.cat([x['attention_mask'] for x in X_test_tokens1], dim=0)\n",
    "\n",
    "# Move test data to GPU\n",
    "X_test_inputs1 = X_test_inputs1.to('cuda')\n",
    "X_test_attention_masks1 = X_test_attention_masks1.to('cuda')\n",
    "\n",
    "# Set batch size\n",
    "batch_size = 9\n",
    "\n",
    "# Split the test data into batches\n",
    "X_test_inputs_batches1 = torch.split(X_test_inputs, batch_size)\n",
    "X_test_attention_masks_batches1= torch.split(X_test_attention_masks, batch_size)\n",
    "\n",
    "# Make predictions on the test data\n",
    "y_pred_list = []\n",
    "\n",
    "scibert_model.eval()\n",
    "with torch.no_grad():\n",
    "    with tqdm(total=len(X_test_inputs_batches1), desc='Predicting', unit='batch') as pbar:\n",
    "        for inputs_batch, attention_masks_batch in zip(X_test_inputs_batches1, X_test_attention_masks_batches1):\n",
    "            inputs_batch = inputs_batch.to('cuda')\n",
    "            attention_masks_batch = attention_masks_batch.to('cuda')\n",
    "\n",
    "            y_pred_batch = scibert_model(inputs_batch, attention_mask=attention_masks_batch)[0].sigmoid().cpu().numpy()\n",
    "            y_pred_list.append(y_pred_batch)\n",
    "\n",
    "            pbar.update(1)\n",
    "\n",
    "# Concatenate predictions from all batches\n",
    "y_pred = np.concatenate(y_pred_list, axis=0)\n",
    "\n",
    "# Convert predicted probabilities to binary predictions\n",
    "y_pred_classes = (y_pred > 0.5).astype(int)\n",
    "\n",
    "# Create a DataFrame with columns matching mlb.classes_\n",
    "predictions_df = pd.DataFrame(y_pred_classes, columns=mlb.classes_)\n",
    "\n",
    "# Concatenate the predictions DataFrame with the original test_df\n",
    "final_df = pd.concat([test_df, predictions_df], axis=1)\n",
    "\n",
    "# Display or save the final_df as needed\n",
    "print(final_df)\n",
    "final_df.to_csv('/kaggle/working/submission5.csv')\n"
   ]
  },
  {
   "cell_type": "code",
   "execution_count": 19,
   "id": "20f959d7",
   "metadata": {
    "execution": {
     "iopub.execute_input": "2024-02-07T12:06:37.763305Z",
     "iopub.status.busy": "2024-02-07T12:06:37.762887Z",
     "iopub.status.idle": "2024-02-07T12:06:38.442838Z",
     "shell.execute_reply": "2024-02-07T12:06:38.441878Z"
    },
    "papermill": {
     "duration": 5.804306,
     "end_time": "2024-02-07T12:06:38.445336",
     "exception": false,
     "start_time": "2024-02-07T12:06:32.641030",
     "status": "completed"
    },
    "tags": []
   },
   "outputs": [],
   "source": [
    "# Save the trained SciBERT model\n",
    "scibert_model.save_pretrained('/kaggle/working/scibert_trained')"
   ]
  }
 ],
 "metadata": {
  "kaggle": {
   "accelerator": "gpu",
   "dataSources": [
    {
     "datasetId": 4372563,
     "sourceId": 7507883,
     "sourceType": "datasetVersion"
    }
   ],
   "dockerImageVersionId": 30646,
   "isGpuEnabled": true,
   "isInternetEnabled": true,
   "language": "python",
   "sourceType": "notebook"
  },
  "kernelspec": {
   "display_name": "Python 3",
   "language": "python",
   "name": "python3"
  },
  "language_info": {
   "codemirror_mode": {
    "name": "ipython",
    "version": 3
   },
   "file_extension": ".py",
   "mimetype": "text/x-python",
   "name": "python",
   "nbconvert_exporter": "python",
   "pygments_lexer": "ipython3",
   "version": "3.10.13"
  },
  "papermill": {
   "default_parameters": {},
   "duration": 14384.427421,
   "end_time": "2024-02-07T12:06:46.833577",
   "environment_variables": {},
   "exception": null,
   "input_path": "__notebook__.ipynb",
   "output_path": "__notebook__.ipynb",
   "parameters": {},
   "start_time": "2024-02-07T08:07:02.406156",
   "version": "2.5.0"
  },
  "widgets": {
   "application/vnd.jupyter.widget-state+json": {
    "state": {
     "0527cba3290e4b008887221390fca01e": {
      "model_module": "@jupyter-widgets/controls",
      "model_module_version": "1.5.0",
      "model_name": "DescriptionStyleModel",
      "state": {
       "_model_module": "@jupyter-widgets/controls",
       "_model_module_version": "1.5.0",
       "_model_name": "DescriptionStyleModel",
       "_view_count": null,
       "_view_module": "@jupyter-widgets/base",
       "_view_module_version": "1.2.0",
       "_view_name": "StyleView",
       "description_width": ""
      }
     },
     "09df5c38b8134a019a453094e4c1851f": {
      "model_module": "@jupyter-widgets/base",
      "model_module_version": "1.2.0",
      "model_name": "LayoutModel",
      "state": {
       "_model_module": "@jupyter-widgets/base",
       "_model_module_version": "1.2.0",
       "_model_name": "LayoutModel",
       "_view_count": null,
       "_view_module": "@jupyter-widgets/base",
       "_view_module_version": "1.2.0",
       "_view_name": "LayoutView",
       "align_content": null,
       "align_items": null,
       "align_self": null,
       "border": null,
       "bottom": null,
       "display": null,
       "flex": null,
       "flex_flow": null,
       "grid_area": null,
       "grid_auto_columns": null,
       "grid_auto_flow": null,
       "grid_auto_rows": null,
       "grid_column": null,
       "grid_gap": null,
       "grid_row": null,
       "grid_template_areas": null,
       "grid_template_columns": null,
       "grid_template_rows": null,
       "height": null,
       "justify_content": null,
       "justify_items": null,
       "left": null,
       "margin": null,
       "max_height": null,
       "max_width": null,
       "min_height": null,
       "min_width": null,
       "object_fit": null,
       "object_position": null,
       "order": null,
       "overflow": null,
       "overflow_x": null,
       "overflow_y": null,
       "padding": null,
       "right": null,
       "top": null,
       "visibility": null,
       "width": null
      }
     },
     "0a205c653cec4887a4746a7c5cae0d26": {
      "model_module": "@jupyter-widgets/controls",
      "model_module_version": "1.5.0",
      "model_name": "DescriptionStyleModel",
      "state": {
       "_model_module": "@jupyter-widgets/controls",
       "_model_module_version": "1.5.0",
       "_model_name": "DescriptionStyleModel",
       "_view_count": null,
       "_view_module": "@jupyter-widgets/base",
       "_view_module_version": "1.2.0",
       "_view_name": "StyleView",
       "description_width": ""
      }
     },
     "0c8adcb1374d46088afbdce7534c6d94": {
      "model_module": "@jupyter-widgets/controls",
      "model_module_version": "1.5.0",
      "model_name": "ProgressStyleModel",
      "state": {
       "_model_module": "@jupyter-widgets/controls",
       "_model_module_version": "1.5.0",
       "_model_name": "ProgressStyleModel",
       "_view_count": null,
       "_view_module": "@jupyter-widgets/base",
       "_view_module_version": "1.2.0",
       "_view_name": "StyleView",
       "bar_color": null,
       "description_width": ""
      }
     },
     "0f10fe375d6c4bff93bd1466544f1896": {
      "model_module": "@jupyter-widgets/base",
      "model_module_version": "1.2.0",
      "model_name": "LayoutModel",
      "state": {
       "_model_module": "@jupyter-widgets/base",
       "_model_module_version": "1.2.0",
       "_model_name": "LayoutModel",
       "_view_count": null,
       "_view_module": "@jupyter-widgets/base",
       "_view_module_version": "1.2.0",
       "_view_name": "LayoutView",
       "align_content": null,
       "align_items": null,
       "align_self": null,
       "border": null,
       "bottom": null,
       "display": null,
       "flex": null,
       "flex_flow": null,
       "grid_area": null,
       "grid_auto_columns": null,
       "grid_auto_flow": null,
       "grid_auto_rows": null,
       "grid_column": null,
       "grid_gap": null,
       "grid_row": null,
       "grid_template_areas": null,
       "grid_template_columns": null,
       "grid_template_rows": null,
       "height": null,
       "justify_content": null,
       "justify_items": null,
       "left": null,
       "margin": null,
       "max_height": null,
       "max_width": null,
       "min_height": null,
       "min_width": null,
       "object_fit": null,
       "object_position": null,
       "order": null,
       "overflow": null,
       "overflow_x": null,
       "overflow_y": null,
       "padding": null,
       "right": null,
       "top": null,
       "visibility": null,
       "width": null
      }
     },
     "0f4a0c4ff02d400d9cd1f8db1097dd07": {
      "model_module": "@jupyter-widgets/base",
      "model_module_version": "1.2.0",
      "model_name": "LayoutModel",
      "state": {
       "_model_module": "@jupyter-widgets/base",
       "_model_module_version": "1.2.0",
       "_model_name": "LayoutModel",
       "_view_count": null,
       "_view_module": "@jupyter-widgets/base",
       "_view_module_version": "1.2.0",
       "_view_name": "LayoutView",
       "align_content": null,
       "align_items": null,
       "align_self": null,
       "border": null,
       "bottom": null,
       "display": null,
       "flex": null,
       "flex_flow": null,
       "grid_area": null,
       "grid_auto_columns": null,
       "grid_auto_flow": null,
       "grid_auto_rows": null,
       "grid_column": null,
       "grid_gap": null,
       "grid_row": null,
       "grid_template_areas": null,
       "grid_template_columns": null,
       "grid_template_rows": null,
       "height": null,
       "justify_content": null,
       "justify_items": null,
       "left": null,
       "margin": null,
       "max_height": null,
       "max_width": null,
       "min_height": null,
       "min_width": null,
       "object_fit": null,
       "object_position": null,
       "order": null,
       "overflow": null,
       "overflow_x": null,
       "overflow_y": null,
       "padding": null,
       "right": null,
       "top": null,
       "visibility": null,
       "width": null
      }
     },
     "0f6341ccc30b48e7bc66e383ac1a8945": {
      "model_module": "@jupyter-widgets/base",
      "model_module_version": "1.2.0",
      "model_name": "LayoutModel",
      "state": {
       "_model_module": "@jupyter-widgets/base",
       "_model_module_version": "1.2.0",
       "_model_name": "LayoutModel",
       "_view_count": null,
       "_view_module": "@jupyter-widgets/base",
       "_view_module_version": "1.2.0",
       "_view_name": "LayoutView",
       "align_content": null,
       "align_items": null,
       "align_self": null,
       "border": null,
       "bottom": null,
       "display": null,
       "flex": null,
       "flex_flow": null,
       "grid_area": null,
       "grid_auto_columns": null,
       "grid_auto_flow": null,
       "grid_auto_rows": null,
       "grid_column": null,
       "grid_gap": null,
       "grid_row": null,
       "grid_template_areas": null,
       "grid_template_columns": null,
       "grid_template_rows": null,
       "height": null,
       "justify_content": null,
       "justify_items": null,
       "left": null,
       "margin": null,
       "max_height": null,
       "max_width": null,
       "min_height": null,
       "min_width": null,
       "object_fit": null,
       "object_position": null,
       "order": null,
       "overflow": null,
       "overflow_x": null,
       "overflow_y": null,
       "padding": null,
       "right": null,
       "top": null,
       "visibility": null,
       "width": null
      }
     },
     "45cbdf0142a0451d9cdab56b6434bd20": {
      "model_module": "@jupyter-widgets/controls",
      "model_module_version": "1.5.0",
      "model_name": "ProgressStyleModel",
      "state": {
       "_model_module": "@jupyter-widgets/controls",
       "_model_module_version": "1.5.0",
       "_model_name": "ProgressStyleModel",
       "_view_count": null,
       "_view_module": "@jupyter-widgets/base",
       "_view_module_version": "1.2.0",
       "_view_name": "StyleView",
       "bar_color": null,
       "description_width": ""
      }
     },
     "46e00cfadf51467f8c7d03b5bf2dbc68": {
      "model_module": "@jupyter-widgets/base",
      "model_module_version": "1.2.0",
      "model_name": "LayoutModel",
      "state": {
       "_model_module": "@jupyter-widgets/base",
       "_model_module_version": "1.2.0",
       "_model_name": "LayoutModel",
       "_view_count": null,
       "_view_module": "@jupyter-widgets/base",
       "_view_module_version": "1.2.0",
       "_view_name": "LayoutView",
       "align_content": null,
       "align_items": null,
       "align_self": null,
       "border": null,
       "bottom": null,
       "display": null,
       "flex": null,
       "flex_flow": null,
       "grid_area": null,
       "grid_auto_columns": null,
       "grid_auto_flow": null,
       "grid_auto_rows": null,
       "grid_column": null,
       "grid_gap": null,
       "grid_row": null,
       "grid_template_areas": null,
       "grid_template_columns": null,
       "grid_template_rows": null,
       "height": null,
       "justify_content": null,
       "justify_items": null,
       "left": null,
       "margin": null,
       "max_height": null,
       "max_width": null,
       "min_height": null,
       "min_width": null,
       "object_fit": null,
       "object_position": null,
       "order": null,
       "overflow": null,
       "overflow_x": null,
       "overflow_y": null,
       "padding": null,
       "right": null,
       "top": null,
       "visibility": null,
       "width": null
      }
     },
     "4a1c821090d24208a64d08977de0b039": {
      "model_module": "@jupyter-widgets/controls",
      "model_module_version": "1.5.0",
      "model_name": "HTMLModel",
      "state": {
       "_dom_classes": [],
       "_model_module": "@jupyter-widgets/controls",
       "_model_module_version": "1.5.0",
       "_model_name": "HTMLModel",
       "_view_count": null,
       "_view_module": "@jupyter-widgets/controls",
       "_view_module_version": "1.5.0",
       "_view_name": "HTMLView",
       "description": "",
       "description_tooltip": null,
       "layout": "IPY_MODEL_d628db87e851402982fa6e4357868176",
       "placeholder": "​",
       "style": "IPY_MODEL_7d9dd91122d44a969c4ae8e141cfe103",
       "value": "config.json: 100%"
      }
     },
     "65174e60a2cf4de4aec3379d387c5933": {
      "model_module": "@jupyter-widgets/controls",
      "model_module_version": "1.5.0",
      "model_name": "DescriptionStyleModel",
      "state": {
       "_model_module": "@jupyter-widgets/controls",
       "_model_module_version": "1.5.0",
       "_model_name": "DescriptionStyleModel",
       "_view_count": null,
       "_view_module": "@jupyter-widgets/base",
       "_view_module_version": "1.2.0",
       "_view_name": "StyleView",
       "description_width": ""
      }
     },
     "6ba2f3ca37164c4c9676420adc04f519": {
      "model_module": "@jupyter-widgets/controls",
      "model_module_version": "1.5.0",
      "model_name": "HTMLModel",
      "state": {
       "_dom_classes": [],
       "_model_module": "@jupyter-widgets/controls",
       "_model_module_version": "1.5.0",
       "_model_name": "HTMLModel",
       "_view_count": null,
       "_view_module": "@jupyter-widgets/controls",
       "_view_module_version": "1.5.0",
       "_view_name": "HTMLView",
       "description": "",
       "description_tooltip": null,
       "layout": "IPY_MODEL_90017b8b694040748b86bd913887f474",
       "placeholder": "​",
       "style": "IPY_MODEL_c63b252d642f47ff9ca9bd8300fd9fe3",
       "value": " 442M/442M [00:03&lt;00:00, 129MB/s]"
      }
     },
     "75000aabec8a41e88886ab5f18e90e8e": {
      "model_module": "@jupyter-widgets/base",
      "model_module_version": "1.2.0",
      "model_name": "LayoutModel",
      "state": {
       "_model_module": "@jupyter-widgets/base",
       "_model_module_version": "1.2.0",
       "_model_name": "LayoutModel",
       "_view_count": null,
       "_view_module": "@jupyter-widgets/base",
       "_view_module_version": "1.2.0",
       "_view_name": "LayoutView",
       "align_content": null,
       "align_items": null,
       "align_self": null,
       "border": null,
       "bottom": null,
       "display": null,
       "flex": null,
       "flex_flow": null,
       "grid_area": null,
       "grid_auto_columns": null,
       "grid_auto_flow": null,
       "grid_auto_rows": null,
       "grid_column": null,
       "grid_gap": null,
       "grid_row": null,
       "grid_template_areas": null,
       "grid_template_columns": null,
       "grid_template_rows": null,
       "height": null,
       "justify_content": null,
       "justify_items": null,
       "left": null,
       "margin": null,
       "max_height": null,
       "max_width": null,
       "min_height": null,
       "min_width": null,
       "object_fit": null,
       "object_position": null,
       "order": null,
       "overflow": null,
       "overflow_x": null,
       "overflow_y": null,
       "padding": null,
       "right": null,
       "top": null,
       "visibility": null,
       "width": null
      }
     },
     "7a2ae362a756436cb2e6a9e187900cba": {
      "model_module": "@jupyter-widgets/controls",
      "model_module_version": "1.5.0",
      "model_name": "FloatProgressModel",
      "state": {
       "_dom_classes": [],
       "_model_module": "@jupyter-widgets/controls",
       "_model_module_version": "1.5.0",
       "_model_name": "FloatProgressModel",
       "_view_count": null,
       "_view_module": "@jupyter-widgets/controls",
       "_view_module_version": "1.5.0",
       "_view_name": "ProgressView",
       "bar_style": "success",
       "description": "",
       "description_tooltip": null,
       "layout": "IPY_MODEL_75000aabec8a41e88886ab5f18e90e8e",
       "max": 385.0,
       "min": 0.0,
       "orientation": "horizontal",
       "style": "IPY_MODEL_45cbdf0142a0451d9cdab56b6434bd20",
       "value": 385.0
      }
     },
     "7b9d4fd30ec34f18a8d4fe549bf65849": {
      "model_module": "@jupyter-widgets/controls",
      "model_module_version": "1.5.0",
      "model_name": "HTMLModel",
      "state": {
       "_dom_classes": [],
       "_model_module": "@jupyter-widgets/controls",
       "_model_module_version": "1.5.0",
       "_model_name": "HTMLModel",
       "_view_count": null,
       "_view_module": "@jupyter-widgets/controls",
       "_view_module_version": "1.5.0",
       "_view_name": "HTMLView",
       "description": "",
       "description_tooltip": null,
       "layout": "IPY_MODEL_0f10fe375d6c4bff93bd1466544f1896",
       "placeholder": "​",
       "style": "IPY_MODEL_0a205c653cec4887a4746a7c5cae0d26",
       "value": " 228k/228k [00:00&lt;00:00, 3.17MB/s]"
      }
     },
     "7d9dd91122d44a969c4ae8e141cfe103": {
      "model_module": "@jupyter-widgets/controls",
      "model_module_version": "1.5.0",
      "model_name": "DescriptionStyleModel",
      "state": {
       "_model_module": "@jupyter-widgets/controls",
       "_model_module_version": "1.5.0",
       "_model_name": "DescriptionStyleModel",
       "_view_count": null,
       "_view_module": "@jupyter-widgets/base",
       "_view_module_version": "1.2.0",
       "_view_name": "StyleView",
       "description_width": ""
      }
     },
     "847d4cc5464d4964ba4204994e10b1c9": {
      "model_module": "@jupyter-widgets/controls",
      "model_module_version": "1.5.0",
      "model_name": "ProgressStyleModel",
      "state": {
       "_model_module": "@jupyter-widgets/controls",
       "_model_module_version": "1.5.0",
       "_model_name": "ProgressStyleModel",
       "_view_count": null,
       "_view_module": "@jupyter-widgets/base",
       "_view_module_version": "1.2.0",
       "_view_name": "StyleView",
       "bar_color": null,
       "description_width": ""
      }
     },
     "87cbfaa971824f6182abcbeb866dda5f": {
      "model_module": "@jupyter-widgets/controls",
      "model_module_version": "1.5.0",
      "model_name": "HTMLModel",
      "state": {
       "_dom_classes": [],
       "_model_module": "@jupyter-widgets/controls",
       "_model_module_version": "1.5.0",
       "_model_name": "HTMLModel",
       "_view_count": null,
       "_view_module": "@jupyter-widgets/controls",
       "_view_module_version": "1.5.0",
       "_view_name": "HTMLView",
       "description": "",
       "description_tooltip": null,
       "layout": "IPY_MODEL_0f6341ccc30b48e7bc66e383ac1a8945",
       "placeholder": "​",
       "style": "IPY_MODEL_c2a40bb07a8d494889e72e519d399f27",
       "value": "pytorch_model.bin: 100%"
      }
     },
     "90017b8b694040748b86bd913887f474": {
      "model_module": "@jupyter-widgets/base",
      "model_module_version": "1.2.0",
      "model_name": "LayoutModel",
      "state": {
       "_model_module": "@jupyter-widgets/base",
       "_model_module_version": "1.2.0",
       "_model_name": "LayoutModel",
       "_view_count": null,
       "_view_module": "@jupyter-widgets/base",
       "_view_module_version": "1.2.0",
       "_view_name": "LayoutView",
       "align_content": null,
       "align_items": null,
       "align_self": null,
       "border": null,
       "bottom": null,
       "display": null,
       "flex": null,
       "flex_flow": null,
       "grid_area": null,
       "grid_auto_columns": null,
       "grid_auto_flow": null,
       "grid_auto_rows": null,
       "grid_column": null,
       "grid_gap": null,
       "grid_row": null,
       "grid_template_areas": null,
       "grid_template_columns": null,
       "grid_template_rows": null,
       "height": null,
       "justify_content": null,
       "justify_items": null,
       "left": null,
       "margin": null,
       "max_height": null,
       "max_width": null,
       "min_height": null,
       "min_width": null,
       "object_fit": null,
       "object_position": null,
       "order": null,
       "overflow": null,
       "overflow_x": null,
       "overflow_y": null,
       "padding": null,
       "right": null,
       "top": null,
       "visibility": null,
       "width": null
      }
     },
     "90fcb928944a49e7bfede7ee5f0c83da": {
      "model_module": "@jupyter-widgets/controls",
      "model_module_version": "1.5.0",
      "model_name": "HBoxModel",
      "state": {
       "_dom_classes": [],
       "_model_module": "@jupyter-widgets/controls",
       "_model_module_version": "1.5.0",
       "_model_name": "HBoxModel",
       "_view_count": null,
       "_view_module": "@jupyter-widgets/controls",
       "_view_module_version": "1.5.0",
       "_view_name": "HBoxView",
       "box_style": "",
       "children": [
        "IPY_MODEL_a5bc6acb80f943ec947dad03243c8824",
        "IPY_MODEL_971003a2b7e1490b98085094a0fd817e",
        "IPY_MODEL_7b9d4fd30ec34f18a8d4fe549bf65849"
       ],
       "layout": "IPY_MODEL_b41939355d6e40cc92daf20fd397353b"
      }
     },
     "971003a2b7e1490b98085094a0fd817e": {
      "model_module": "@jupyter-widgets/controls",
      "model_module_version": "1.5.0",
      "model_name": "FloatProgressModel",
      "state": {
       "_dom_classes": [],
       "_model_module": "@jupyter-widgets/controls",
       "_model_module_version": "1.5.0",
       "_model_name": "FloatProgressModel",
       "_view_count": null,
       "_view_module": "@jupyter-widgets/controls",
       "_view_module_version": "1.5.0",
       "_view_name": "ProgressView",
       "bar_style": "success",
       "description": "",
       "description_tooltip": null,
       "layout": "IPY_MODEL_c7fd8a1698db42e19056b8275cd56012",
       "max": 227845.0,
       "min": 0.0,
       "orientation": "horizontal",
       "style": "IPY_MODEL_847d4cc5464d4964ba4204994e10b1c9",
       "value": 227845.0
      }
     },
     "a5bc6acb80f943ec947dad03243c8824": {
      "model_module": "@jupyter-widgets/controls",
      "model_module_version": "1.5.0",
      "model_name": "HTMLModel",
      "state": {
       "_dom_classes": [],
       "_model_module": "@jupyter-widgets/controls",
       "_model_module_version": "1.5.0",
       "_model_name": "HTMLModel",
       "_view_count": null,
       "_view_module": "@jupyter-widgets/controls",
       "_view_module_version": "1.5.0",
       "_view_name": "HTMLView",
       "description": "",
       "description_tooltip": null,
       "layout": "IPY_MODEL_fa1fd8443b564cde80ec9e8dcebaaad3",
       "placeholder": "​",
       "style": "IPY_MODEL_65174e60a2cf4de4aec3379d387c5933",
       "value": "vocab.txt: 100%"
      }
     },
     "b41939355d6e40cc92daf20fd397353b": {
      "model_module": "@jupyter-widgets/base",
      "model_module_version": "1.2.0",
      "model_name": "LayoutModel",
      "state": {
       "_model_module": "@jupyter-widgets/base",
       "_model_module_version": "1.2.0",
       "_model_name": "LayoutModel",
       "_view_count": null,
       "_view_module": "@jupyter-widgets/base",
       "_view_module_version": "1.2.0",
       "_view_name": "LayoutView",
       "align_content": null,
       "align_items": null,
       "align_self": null,
       "border": null,
       "bottom": null,
       "display": null,
       "flex": null,
       "flex_flow": null,
       "grid_area": null,
       "grid_auto_columns": null,
       "grid_auto_flow": null,
       "grid_auto_rows": null,
       "grid_column": null,
       "grid_gap": null,
       "grid_row": null,
       "grid_template_areas": null,
       "grid_template_columns": null,
       "grid_template_rows": null,
       "height": null,
       "justify_content": null,
       "justify_items": null,
       "left": null,
       "margin": null,
       "max_height": null,
       "max_width": null,
       "min_height": null,
       "min_width": null,
       "object_fit": null,
       "object_position": null,
       "order": null,
       "overflow": null,
       "overflow_x": null,
       "overflow_y": null,
       "padding": null,
       "right": null,
       "top": null,
       "visibility": null,
       "width": null
      }
     },
     "b4955b1e98a04e62abcdeb9a003322a4": {
      "model_module": "@jupyter-widgets/controls",
      "model_module_version": "1.5.0",
      "model_name": "HBoxModel",
      "state": {
       "_dom_classes": [],
       "_model_module": "@jupyter-widgets/controls",
       "_model_module_version": "1.5.0",
       "_model_name": "HBoxModel",
       "_view_count": null,
       "_view_module": "@jupyter-widgets/controls",
       "_view_module_version": "1.5.0",
       "_view_name": "HBoxView",
       "box_style": "",
       "children": [
        "IPY_MODEL_4a1c821090d24208a64d08977de0b039",
        "IPY_MODEL_7a2ae362a756436cb2e6a9e187900cba",
        "IPY_MODEL_fa8055d81ebe4ee8a415a8b261fac4be"
       ],
       "layout": "IPY_MODEL_0f4a0c4ff02d400d9cd1f8db1097dd07"
      }
     },
     "b6c0bedcfa78408aa7e4a9f5d3b52c7a": {
      "model_module": "@jupyter-widgets/controls",
      "model_module_version": "1.5.0",
      "model_name": "FloatProgressModel",
      "state": {
       "_dom_classes": [],
       "_model_module": "@jupyter-widgets/controls",
       "_model_module_version": "1.5.0",
       "_model_name": "FloatProgressModel",
       "_view_count": null,
       "_view_module": "@jupyter-widgets/controls",
       "_view_module_version": "1.5.0",
       "_view_name": "ProgressView",
       "bar_style": "success",
       "description": "",
       "description_tooltip": null,
       "layout": "IPY_MODEL_09df5c38b8134a019a453094e4c1851f",
       "max": 442221694.0,
       "min": 0.0,
       "orientation": "horizontal",
       "style": "IPY_MODEL_0c8adcb1374d46088afbdce7534c6d94",
       "value": 442221694.0
      }
     },
     "c2a40bb07a8d494889e72e519d399f27": {
      "model_module": "@jupyter-widgets/controls",
      "model_module_version": "1.5.0",
      "model_name": "DescriptionStyleModel",
      "state": {
       "_model_module": "@jupyter-widgets/controls",
       "_model_module_version": "1.5.0",
       "_model_name": "DescriptionStyleModel",
       "_view_count": null,
       "_view_module": "@jupyter-widgets/base",
       "_view_module_version": "1.2.0",
       "_view_name": "StyleView",
       "description_width": ""
      }
     },
     "c63b252d642f47ff9ca9bd8300fd9fe3": {
      "model_module": "@jupyter-widgets/controls",
      "model_module_version": "1.5.0",
      "model_name": "DescriptionStyleModel",
      "state": {
       "_model_module": "@jupyter-widgets/controls",
       "_model_module_version": "1.5.0",
       "_model_name": "DescriptionStyleModel",
       "_view_count": null,
       "_view_module": "@jupyter-widgets/base",
       "_view_module_version": "1.2.0",
       "_view_name": "StyleView",
       "description_width": ""
      }
     },
     "c7fd8a1698db42e19056b8275cd56012": {
      "model_module": "@jupyter-widgets/base",
      "model_module_version": "1.2.0",
      "model_name": "LayoutModel",
      "state": {
       "_model_module": "@jupyter-widgets/base",
       "_model_module_version": "1.2.0",
       "_model_name": "LayoutModel",
       "_view_count": null,
       "_view_module": "@jupyter-widgets/base",
       "_view_module_version": "1.2.0",
       "_view_name": "LayoutView",
       "align_content": null,
       "align_items": null,
       "align_self": null,
       "border": null,
       "bottom": null,
       "display": null,
       "flex": null,
       "flex_flow": null,
       "grid_area": null,
       "grid_auto_columns": null,
       "grid_auto_flow": null,
       "grid_auto_rows": null,
       "grid_column": null,
       "grid_gap": null,
       "grid_row": null,
       "grid_template_areas": null,
       "grid_template_columns": null,
       "grid_template_rows": null,
       "height": null,
       "justify_content": null,
       "justify_items": null,
       "left": null,
       "margin": null,
       "max_height": null,
       "max_width": null,
       "min_height": null,
       "min_width": null,
       "object_fit": null,
       "object_position": null,
       "order": null,
       "overflow": null,
       "overflow_x": null,
       "overflow_y": null,
       "padding": null,
       "right": null,
       "top": null,
       "visibility": null,
       "width": null
      }
     },
     "cd3bffc1b83d4d1aa5da3ed12ce91c93": {
      "model_module": "@jupyter-widgets/controls",
      "model_module_version": "1.5.0",
      "model_name": "HBoxModel",
      "state": {
       "_dom_classes": [],
       "_model_module": "@jupyter-widgets/controls",
       "_model_module_version": "1.5.0",
       "_model_name": "HBoxModel",
       "_view_count": null,
       "_view_module": "@jupyter-widgets/controls",
       "_view_module_version": "1.5.0",
       "_view_name": "HBoxView",
       "box_style": "",
       "children": [
        "IPY_MODEL_87cbfaa971824f6182abcbeb866dda5f",
        "IPY_MODEL_b6c0bedcfa78408aa7e4a9f5d3b52c7a",
        "IPY_MODEL_6ba2f3ca37164c4c9676420adc04f519"
       ],
       "layout": "IPY_MODEL_fdede16d9c35480f953feaf1cc8eb82b"
      }
     },
     "d628db87e851402982fa6e4357868176": {
      "model_module": "@jupyter-widgets/base",
      "model_module_version": "1.2.0",
      "model_name": "LayoutModel",
      "state": {
       "_model_module": "@jupyter-widgets/base",
       "_model_module_version": "1.2.0",
       "_model_name": "LayoutModel",
       "_view_count": null,
       "_view_module": "@jupyter-widgets/base",
       "_view_module_version": "1.2.0",
       "_view_name": "LayoutView",
       "align_content": null,
       "align_items": null,
       "align_self": null,
       "border": null,
       "bottom": null,
       "display": null,
       "flex": null,
       "flex_flow": null,
       "grid_area": null,
       "grid_auto_columns": null,
       "grid_auto_flow": null,
       "grid_auto_rows": null,
       "grid_column": null,
       "grid_gap": null,
       "grid_row": null,
       "grid_template_areas": null,
       "grid_template_columns": null,
       "grid_template_rows": null,
       "height": null,
       "justify_content": null,
       "justify_items": null,
       "left": null,
       "margin": null,
       "max_height": null,
       "max_width": null,
       "min_height": null,
       "min_width": null,
       "object_fit": null,
       "object_position": null,
       "order": null,
       "overflow": null,
       "overflow_x": null,
       "overflow_y": null,
       "padding": null,
       "right": null,
       "top": null,
       "visibility": null,
       "width": null
      }
     },
     "fa1fd8443b564cde80ec9e8dcebaaad3": {
      "model_module": "@jupyter-widgets/base",
      "model_module_version": "1.2.0",
      "model_name": "LayoutModel",
      "state": {
       "_model_module": "@jupyter-widgets/base",
       "_model_module_version": "1.2.0",
       "_model_name": "LayoutModel",
       "_view_count": null,
       "_view_module": "@jupyter-widgets/base",
       "_view_module_version": "1.2.0",
       "_view_name": "LayoutView",
       "align_content": null,
       "align_items": null,
       "align_self": null,
       "border": null,
       "bottom": null,
       "display": null,
       "flex": null,
       "flex_flow": null,
       "grid_area": null,
       "grid_auto_columns": null,
       "grid_auto_flow": null,
       "grid_auto_rows": null,
       "grid_column": null,
       "grid_gap": null,
       "grid_row": null,
       "grid_template_areas": null,
       "grid_template_columns": null,
       "grid_template_rows": null,
       "height": null,
       "justify_content": null,
       "justify_items": null,
       "left": null,
       "margin": null,
       "max_height": null,
       "max_width": null,
       "min_height": null,
       "min_width": null,
       "object_fit": null,
       "object_position": null,
       "order": null,
       "overflow": null,
       "overflow_x": null,
       "overflow_y": null,
       "padding": null,
       "right": null,
       "top": null,
       "visibility": null,
       "width": null
      }
     },
     "fa8055d81ebe4ee8a415a8b261fac4be": {
      "model_module": "@jupyter-widgets/controls",
      "model_module_version": "1.5.0",
      "model_name": "HTMLModel",
      "state": {
       "_dom_classes": [],
       "_model_module": "@jupyter-widgets/controls",
       "_model_module_version": "1.5.0",
       "_model_name": "HTMLModel",
       "_view_count": null,
       "_view_module": "@jupyter-widgets/controls",
       "_view_module_version": "1.5.0",
       "_view_name": "HTMLView",
       "description": "",
       "description_tooltip": null,
       "layout": "IPY_MODEL_46e00cfadf51467f8c7d03b5bf2dbc68",
       "placeholder": "​",
       "style": "IPY_MODEL_0527cba3290e4b008887221390fca01e",
       "value": " 385/385 [00:00&lt;00:00, 27.6kB/s]"
      }
     },
     "fdede16d9c35480f953feaf1cc8eb82b": {
      "model_module": "@jupyter-widgets/base",
      "model_module_version": "1.2.0",
      "model_name": "LayoutModel",
      "state": {
       "_model_module": "@jupyter-widgets/base",
       "_model_module_version": "1.2.0",
       "_model_name": "LayoutModel",
       "_view_count": null,
       "_view_module": "@jupyter-widgets/base",
       "_view_module_version": "1.2.0",
       "_view_name": "LayoutView",
       "align_content": null,
       "align_items": null,
       "align_self": null,
       "border": null,
       "bottom": null,
       "display": null,
       "flex": null,
       "flex_flow": null,
       "grid_area": null,
       "grid_auto_columns": null,
       "grid_auto_flow": null,
       "grid_auto_rows": null,
       "grid_column": null,
       "grid_gap": null,
       "grid_row": null,
       "grid_template_areas": null,
       "grid_template_columns": null,
       "grid_template_rows": null,
       "height": null,
       "justify_content": null,
       "justify_items": null,
       "left": null,
       "margin": null,
       "max_height": null,
       "max_width": null,
       "min_height": null,
       "min_width": null,
       "object_fit": null,
       "object_position": null,
       "order": null,
       "overflow": null,
       "overflow_x": null,
       "overflow_y": null,
       "padding": null,
       "right": null,
       "top": null,
       "visibility": null,
       "width": null
      }
     }
    },
    "version_major": 2,
    "version_minor": 0
   }
  }
 },
 "nbformat": 4,
 "nbformat_minor": 5
}
